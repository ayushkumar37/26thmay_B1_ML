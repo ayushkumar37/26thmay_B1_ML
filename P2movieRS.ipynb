{
 "cells": [
  {
   "cell_type": "code",
   "execution_count": 1,
   "id": "42c6e0d2-a20b-4067-b686-1fb1916e44cb",
   "metadata": {
    "tags": []
   },
   "outputs": [],
   "source": [
    "import pandas as pd\n",
    "import warnings\n",
    "import tkinter as tk\n",
    "\n",
    "warnings.filterwarnings('ignore')"
   ]
  },
  {
   "cell_type": "code",
   "execution_count": null,
   "id": "2dd56a7d-612d-430f-95e9-9f2209e0218e",
   "metadata": {},
   "outputs": [],
   "source": []
  },
  {
   "cell_type": "markdown",
   "id": "21f50849-d9c2-4fd7-832b-91f3fbef1352",
   "metadata": {},
   "source": [
    "# Movie Recommendation System"
   ]
  },
  {
   "cell_type": "code",
   "execution_count": 2,
   "id": "c36bec79-7674-483b-8a90-06b17aae98a1",
   "metadata": {},
   "outputs": [],
   "source": [
    "cols = 'user_id item_id rating timestamp'.split()\n",
    "df = pd.read_csv('u.data',sep='\\t',names=cols)\n",
    "cols_movie = ['item_id', 'title']+[str(i) for i in range(22)]\n",
    "movie_titles = pd.read_csv('u.item',sep='|',names=cols_movie)\n",
    "data = pd.merge(df,movie_titles, on='item_id')\n",
    "rating = pd.DataFrame(data.groupby('title')['rating'].mean())\n",
    "rating['count'] = data['title'].value_counts()\n",
    "pivot_df = data.pivot_table(index = 'user_id', columns = 'title', values= 'rating')\n",
    "\n",
    "app = tk.Tk()\n",
    "app.title('Movie Recommendation System')\n",
    "app.geometry('400x200')\n",
    "app.configure(bg = '#0000FF')\n",
    "\n",
    "tk.Label(app, text='Movie you watched:').place(x=25, y=25)\n",
    "tk.Label(app, text='Recommended:').place(x=25, y=100)\n",
    "tk.Label(app, text='Also try:').place(x=25, y=130)\n",
    "\n",
    "\n",
    "movie_var = tk.Variable(app)\n",
    "tk.Entry(app, textvariable=movie_var, width=28).place(x=170,y=25)\n",
    "\n",
    "recommend_var = tk.Variable(app)\n",
    "recommend_var.set('Type movie name...')\n",
    "tk.Label(app, textvariable=recommend_var).place(x=170, y=100)\n",
    "\n",
    "also_try_var = tk.Variable(app)\n",
    "also_try_var.set('Type movie name...')\n",
    "tk.Label(app, textvariable=also_try_var).place(x=170, y=130)\n",
    "\n",
    "def find_recommendation():\n",
    "    movie = movie_var.get().lower().strip()\n",
    "    if movie:\n",
    "        try:\n",
    "            movie = movie_titles['title'][movie_titles['title'].apply(lambda x:movie in x.lower())].values[0]\n",
    "            movie_var.set(movie)\n",
    "        except IndexError:\n",
    "            recommend_var.set('Movie not Found')\n",
    "            also_try_var.set('Movie not Found')\n",
    "        else: \n",
    "            corr_df = pd.DataFrame(pivot_df.corrwith(pivot_df[movie]), columns=['correlation'])\n",
    "            corr_df.dropna(inplace=True)\n",
    "            corr_df = corr_df.join(rating['count'])\n",
    "            recommend_var.set(corr_df[(corr_df['count']<200)&(corr_df['correlation']>0.4)].sort_values(by='correlation', ascending=False).index[1])\n",
    "            also_try_var.set(corr_df[corr_df['correlation']>0.4].sort_values(by='correlation', ascending=False).index[0])\n",
    "        \n",
    "tk.Button(app, text='Suggest Me',font=('Helvetica', 9 , 'italic'), command=find_recommendation, bg='#66FF66').place(x=210, y=60)\n",
    "\n",
    "app.mainloop()"
   ]
  },
  {
   "cell_type": "code",
   "execution_count": null,
   "id": "22968493-bb4c-4291-92f8-57fe231a10b0",
   "metadata": {},
   "outputs": [],
   "source": []
  },
  {
   "cell_type": "code",
   "execution_count": null,
   "id": "a7bf5ff4-2446-4643-9f9c-e5a0d4c63d6d",
   "metadata": {},
   "outputs": [],
   "source": []
  },
  {
   "cell_type": "code",
   "execution_count": null,
   "id": "bddeaa5a-91d8-41f0-806f-2e87458371b9",
   "metadata": {},
   "outputs": [],
   "source": []
  }
 ],
 "metadata": {
  "kernelspec": {
   "display_name": "Python 3",
   "language": "python",
   "name": "python3"
  },
  "language_info": {
   "codemirror_mode": {
    "name": "ipython",
    "version": 3
   },
   "file_extension": ".py",
   "mimetype": "text/x-python",
   "name": "python",
   "nbconvert_exporter": "python",
   "pygments_lexer": "ipython3",
   "version": "3.8.8"
  }
 },
 "nbformat": 4,
 "nbformat_minor": 5
}
