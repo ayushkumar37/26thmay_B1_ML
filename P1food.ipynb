{
 "cells": [
  {
   "cell_type": "code",
   "execution_count": 1,
   "id": "40178aff-fc6c-4698-afde-76ede9b077ae",
   "metadata": {},
   "outputs": [],
   "source": [
    "import numpy as np\n",
    "import pandas as pd"
   ]
  },
  {
   "cell_type": "code",
   "execution_count": 35,
   "id": "a3c43730-df8b-46be-a20e-a133b965b2f6",
   "metadata": {},
   "outputs": [
    {
     "data": {
      "text/html": [
       "<div>\n",
       "<style scoped>\n",
       "    .dataframe tbody tr th:only-of-type {\n",
       "        vertical-align: middle;\n",
       "    }\n",
       "\n",
       "    .dataframe tbody tr th {\n",
       "        vertical-align: top;\n",
       "    }\n",
       "\n",
       "    .dataframe thead th {\n",
       "        text-align: right;\n",
       "    }\n",
       "</style>\n",
       "<table border=\"1\" class=\"dataframe\">\n",
       "  <thead>\n",
       "    <tr style=\"text-align: right;\">\n",
       "      <th></th>\n",
       "      <th>Name</th>\n",
       "      <th>Price</th>\n",
       "      <th>Place</th>\n",
       "      <th>color</th>\n",
       "      <th>Cuisine</th>\n",
       "      <th>Taste</th>\n",
       "      <th>Rating</th>\n",
       "    </tr>\n",
       "  </thead>\n",
       "  <tbody>\n",
       "    <tr>\n",
       "      <th>1</th>\n",
       "      <td>Paneer</td>\n",
       "      <td>90</td>\n",
       "      <td>jaipur</td>\n",
       "      <td>White</td>\n",
       "      <td>Indian</td>\n",
       "      <td>sweet</td>\n",
       "      <td>4</td>\n",
       "    </tr>\n",
       "    <tr>\n",
       "      <th>2</th>\n",
       "      <td>pizza</td>\n",
       "      <td>150</td>\n",
       "      <td>pune</td>\n",
       "      <td>yellow</td>\n",
       "      <td>japanese</td>\n",
       "      <td>sour</td>\n",
       "      <td>3</td>\n",
       "    </tr>\n",
       "    <tr>\n",
       "      <th>3</th>\n",
       "      <td>sandwich</td>\n",
       "      <td>40</td>\n",
       "      <td>Chennai</td>\n",
       "      <td>White</td>\n",
       "      <td>Indian</td>\n",
       "      <td>salty</td>\n",
       "      <td>2</td>\n",
       "    </tr>\n",
       "    <tr>\n",
       "      <th>4</th>\n",
       "      <td>cake</td>\n",
       "      <td>80</td>\n",
       "      <td>jaipur</td>\n",
       "      <td>White</td>\n",
       "      <td>Thai</td>\n",
       "      <td>sweet</td>\n",
       "      <td>4</td>\n",
       "    </tr>\n",
       "    <tr>\n",
       "      <th>5</th>\n",
       "      <td>Fish</td>\n",
       "      <td>100</td>\n",
       "      <td>Mumbai</td>\n",
       "      <td>Red</td>\n",
       "      <td>Italian</td>\n",
       "      <td>savory</td>\n",
       "      <td>3</td>\n",
       "    </tr>\n",
       "    <tr>\n",
       "      <th>6</th>\n",
       "      <td>Chole bature</td>\n",
       "      <td>40</td>\n",
       "      <td>Delhi</td>\n",
       "      <td>Yellow</td>\n",
       "      <td>Indian</td>\n",
       "      <td>spicy</td>\n",
       "      <td>1</td>\n",
       "    </tr>\n",
       "    <tr>\n",
       "      <th>7</th>\n",
       "      <td>dhokla</td>\n",
       "      <td>70</td>\n",
       "      <td>pune</td>\n",
       "      <td>Yellow</td>\n",
       "      <td>Indian</td>\n",
       "      <td>spicy</td>\n",
       "      <td>4</td>\n",
       "    </tr>\n",
       "    <tr>\n",
       "      <th>8</th>\n",
       "      <td>Chicken</td>\n",
       "      <td>300</td>\n",
       "      <td>Kolkata</td>\n",
       "      <td>Red</td>\n",
       "      <td>Chinese</td>\n",
       "      <td>spicy</td>\n",
       "      <td>5</td>\n",
       "    </tr>\n",
       "    <tr>\n",
       "      <th>9</th>\n",
       "      <td>Biryani</td>\n",
       "      <td>50</td>\n",
       "      <td>pune</td>\n",
       "      <td>Light red</td>\n",
       "      <td>Spanish</td>\n",
       "      <td>spicy</td>\n",
       "      <td>2</td>\n",
       "    </tr>\n",
       "    <tr>\n",
       "      <th>10</th>\n",
       "      <td>Malai Kofta</td>\n",
       "      <td>70</td>\n",
       "      <td>Kolkata</td>\n",
       "      <td>Red</td>\n",
       "      <td>Indian</td>\n",
       "      <td>spicy</td>\n",
       "      <td>2</td>\n",
       "    </tr>\n",
       "    <tr>\n",
       "      <th>11</th>\n",
       "      <td>Veg Thali</td>\n",
       "      <td>230</td>\n",
       "      <td>jaipur</td>\n",
       "      <td>brown</td>\n",
       "      <td>Desi</td>\n",
       "      <td>spicy</td>\n",
       "      <td>1</td>\n",
       "    </tr>\n",
       "    <tr>\n",
       "      <th>12</th>\n",
       "      <td>Burger</td>\n",
       "      <td>20</td>\n",
       "      <td>Delhi</td>\n",
       "      <td>brown</td>\n",
       "      <td>French</td>\n",
       "      <td>salty</td>\n",
       "      <td>5</td>\n",
       "    </tr>\n",
       "  </tbody>\n",
       "</table>\n",
       "</div>"
      ],
      "text/plain": [
       "            Name  Price    Place      color   Cuisine   Taste Rating\n",
       "1         Paneer     90   jaipur      White    Indian   sweet      4\n",
       "2          pizza    150     pune     yellow  japanese    sour      3\n",
       "3       sandwich     40  Chennai      White    Indian   salty      2\n",
       "4           cake     80   jaipur      White      Thai   sweet      4\n",
       "5           Fish    100   Mumbai        Red   Italian  savory      3\n",
       "6   Chole bature     40    Delhi     Yellow    Indian   spicy      1\n",
       "7         dhokla     70     pune     Yellow    Indian   spicy      4\n",
       "8        Chicken    300  Kolkata        Red   Chinese   spicy      5\n",
       "9        Biryani     50     pune  Light red   Spanish   spicy      2\n",
       "10   Malai Kofta     70  Kolkata        Red    Indian   spicy      2\n",
       "11     Veg Thali    230   jaipur      brown      Desi   spicy      1\n",
       "12        Burger     20    Delhi      brown    French   salty      5"
      ]
     },
     "execution_count": 35,
     "metadata": {},
     "output_type": "execute_result"
    }
   ],
   "source": [
    "food=pd.DataFrame([['Paneer',90,'jaipur','White','Indian','sweet','4'],\n",
    "                   ['pizza',150,'pune','yellow','japanese','sour','3'],\n",
    "                   ['sandwich',40,'Chennai','White','Indian','salty','2'],\n",
    "                   ['cake',80,'jaipur','White','Thai','sweet','4'],\n",
    "                   ['Fish',100,'Mumbai','Red','Italian','savory','3'],\n",
    "                   ['Chole bature',40,'Delhi','Yellow','Indian','spicy','1'],\n",
    "                   ['dhokla',70,'pune','Yellow','Indian','spicy','4'],\n",
    "                   ['Chicken',300,'Kolkata','Red','Chinese','spicy','5'],\n",
    "                   ['Biryani',50,'pune','Light red','Spanish','spicy','2'],\n",
    "                   ['Malai Kofta',70,'Kolkata','Red','Indian','spicy','2'],\n",
    "                   ['Veg Thali',230,'jaipur','brown','Desi','spicy','1'],\n",
    "                   ['Burger',20,'Delhi','brown','French','salty','5']\n",
    "                  ]\n",
    "                  ,columns=['Name','Price','Place','color','Cuisine','Taste','Rating'],index=range(1,13))\n",
    "\n",
    "food\n"
   ]
  },
  {
   "cell_type": "markdown",
   "id": "7c776465-84b7-436b-8f63-1163a41bbf1c",
   "metadata": {},
   "source": [
    "# Maximum Price"
   ]
  },
  {
   "cell_type": "code",
   "execution_count": 36,
   "id": "a59e9c31-c560-4b8c-a1c9-528fe5e28387",
   "metadata": {},
   "outputs": [
    {
     "name": "stdout",
     "output_type": "stream",
     "text": [
      "Dish name =  Chicken \n",
      "Dish Price = 300\n"
     ]
    }
   ],
   "source": [
    "for x in food.index:\n",
    "    if food.loc[x,'Price']==food['Price'].max():\n",
    "         print('Dish name = ',food.loc[x,'Name'],'\\nDish Price =',food.loc[x,'Price'])"
   ]
  },
  {
   "cell_type": "markdown",
   "id": "a74e9a1c-ee61-4ee2-9682-188427750ce9",
   "metadata": {},
   "source": [
    "# Popular Cusine"
   ]
  },
  {
   "cell_type": "code",
   "execution_count": 37,
   "id": "dcd4c143-d3f6-4e59-ba6c-a4f4fcb8e50f",
   "metadata": {},
   "outputs": [
    {
     "name": "stdout",
     "output_type": "stream",
     "text": [
      "Most Popular Cuisine =  Chinese \n",
      "Dish Rating =  5\n",
      "Most Popular Cuisine =  French \n",
      "Dish Rating =  5\n"
     ]
    }
   ],
   "source": [
    "for x in food.index:\n",
    "    if food.loc[x,'Rating']==food[\"Rating\"].max():\n",
    "          print('Most Popular Cuisine = ',food.loc[x,'Cuisine'],'\\nDish Rating = ',food.loc[x,'Rating'])"
   ]
  },
  {
   "cell_type": "markdown",
   "id": "474ce75d-73af-4d3b-9fd0-6c04d9e77ec7",
   "metadata": {},
   "source": [
    "# Spicy Food Of Kolkata"
   ]
  },
  {
   "cell_type": "code",
   "execution_count": 38,
   "id": "2fb8ab69-f881-4e1b-ae20-118408516356",
   "metadata": {},
   "outputs": [
    {
     "data": {
      "text/plain": [
       "8         Chicken\n",
       "10    Malai Kofta\n",
       "Name: Name, dtype: object"
      ]
     },
     "execution_count": 38,
     "metadata": {},
     "output_type": "execute_result"
    }
   ],
   "source": [
    "food['Name'][(food['Place']=='Kolkata')&(food['Taste']=='spicy')]"
   ]
  },
  {
   "cell_type": "markdown",
   "id": "cde83f74-f580-42fb-ac24-7f28708da895",
   "metadata": {},
   "source": [
    "# Count of Types Of Taste"
   ]
  },
  {
   "cell_type": "code",
   "execution_count": 39,
   "id": "61aaa4fe-6485-4985-8bc8-42386c9190ce",
   "metadata": {},
   "outputs": [
    {
     "data": {
      "text/plain": [
       "spicy     6\n",
       "sweet     2\n",
       "salty     2\n",
       "savory    1\n",
       "sour      1\n",
       "Name: Taste, dtype: int64"
      ]
     },
     "execution_count": 39,
     "metadata": {},
     "output_type": "execute_result"
    }
   ],
   "source": [
    "food['Taste'].value_counts()"
   ]
  },
  {
   "cell_type": "markdown",
   "id": "6a77d4c5-0936-4083-9c77-a909d06de304",
   "metadata": {},
   "source": [
    "# Count Of Places"
   ]
  },
  {
   "cell_type": "code",
   "execution_count": 40,
   "id": "d94ef13e-e85f-47ff-b1a5-3fa149a824c7",
   "metadata": {},
   "outputs": [
    {
     "data": {
      "text/plain": [
       "pune       3\n",
       "jaipur     3\n",
       "Delhi      2\n",
       "Kolkata    2\n",
       "Mumbai     1\n",
       "Chennai    1\n",
       "Name: Place, dtype: int64"
      ]
     },
     "execution_count": 40,
     "metadata": {},
     "output_type": "execute_result"
    }
   ],
   "source": [
    "food['Place'].value_counts()"
   ]
  },
  {
   "cell_type": "markdown",
   "id": "e1e37620-1b4f-42b0-ba99-3a755a912dbf",
   "metadata": {},
   "source": [
    "# Red Food In Kolkata"
   ]
  },
  {
   "cell_type": "code",
   "execution_count": 43,
   "id": "d6cd111e-7b0e-4606-acd5-48126b9e35e2",
   "metadata": {},
   "outputs": [
    {
     "name": "stdout",
     "output_type": "stream",
     "text": [
      "Red food in Kolkata= Chicken\n",
      "Red food in Kolkata= Malai Kofta\n"
     ]
    }
   ],
   "source": [
    "d1=food[food['color']==\"Red\"]\n",
    "for x in d1.index:\n",
    "    if food.loc[x,'Place']==\"Kolkata\":\n",
    "        print('Red food in Kolkata=',food.loc[x,'Name'])"
   ]
  },
  {
   "cell_type": "markdown",
   "id": "05aca8ac-724a-4a5f-8ea9-c9efc785c7aa",
   "metadata": {},
   "source": [
    "# Cheapest Food "
   ]
  },
  {
   "cell_type": "code",
   "execution_count": 45,
   "id": "80058c38-90d7-48f6-8609-1a37adfcdcda",
   "metadata": {},
   "outputs": [
    {
     "name": "stdout",
     "output_type": "stream",
     "text": [
      "Dish name =  Burger \n",
      "Dish Price = 20\n"
     ]
    }
   ],
   "source": [
    "for x in food.index:\n",
    "    if food.loc[x,'Price']==food['Price'].min():\n",
    "         print('Dish name = ',food.loc[x,'Name'],'\\nDish Price =',food.loc[x,'Price'])"
   ]
  }
 ],
 "metadata": {
  "kernelspec": {
   "display_name": "Python 3",
   "language": "python",
   "name": "python3"
  },
  "language_info": {
   "codemirror_mode": {
    "name": "ipython",
    "version": 3
   },
   "file_extension": ".py",
   "mimetype": "text/x-python",
   "name": "python",
   "nbconvert_exporter": "python",
   "pygments_lexer": "ipython3",
   "version": "3.8.8"
  }
 },
 "nbformat": 4,
 "nbformat_minor": 5
}
